{
 "cells": [
  {
   "cell_type": "markdown",
   "id": "63471655",
   "metadata": {},
   "source": [
    "# **Projekt równania różniczkowe w technice - Równania Friedmanna**\n"
   ]
  },
  {
   "cell_type": "markdown",
   "id": "675ab024",
   "metadata": {},
   "source": [
    "# **1. Wstęp**\n"
   ]
  },
  {
   "cell_type": "markdown",
   "id": "58e5c488",
   "metadata": {},
   "source": [
    "Patrząc w nocne niebo i widząc miliony gwiazd przypominamy sobie o ogromie i złożoności Wszechświata, a co za tym idzie o znikomości naszego własnego istnienia. Ta świadomość fascynuje ludzkość od wieków skłaniając nas do zastanawiania się nad tajemnicami kosmosu i jego początków. Skąd przychodzimy? Kim jesteśmy? Dokąd zmierzamy? Od wieków zadajemy sobie te pytanie. Kluczem do rozwiązania, wydawałoby się filozoficznej zagadki, jest zadanie sobie tych pytań w kontekście całego Wszechświata. Jak powstał Wszechświat, z czego się składa, dokąd zmierza. Współcześnie rozważania te zapoczątkował Albert Einstein publikując Ogólną Teorię Względności w 1915 roku. Była to teoria grawitacji opisująca zakrzywienie czasoprzestrzeni spowodowane obecnością masywnych obiektów. Jednak Einstein upierał się (jak wiemy teraz na błędnym przekonaniu), że Wszechświat jest niezmienny. W 1922 roku radziecki uczony, Richard Friedmann, badając od strony matematycznej równania Einsteina, znalazł rozwiązanie, które było dynamiczne. Dodatkowo, Georges-Henri Lemaître, belgijski astrofizyk, w 1929 roku zauważył, że rozwiązanie to pasuje do spostrzeżeń astronomów, że nieodległe galaktyki \"uciekają\" od Ziemii. Takim oto połączeniem teorii i obserwacji odeszliśmy od statycznego Wszechświata i postrzegamy go jako zmienny. Podążając za słowami Einsteina: „Najbardziej niezrozumiałą rzeczą we Wszechświecie jest to, że jest on zrozumiały”, przedstawimy oraz przeanalizujemy równania Friedmanna."
   ]
  },
  {
   "cell_type": "markdown",
   "id": "856ae792",
   "metadata": {},
   "source": [
    " **Cele projektu**"
   ]
  },
  {
   "cell_type": "markdown",
   "id": "d94f7c86",
   "metadata": {},
   "source": [
    "Wyprowadzenie równań Friedmanna przy wykorzystaniu prawa powszechnego ciążenia Isaaca Newtona. Rozwiązanie równania Friedmanna w celu określenia współczynnika skali zależnego od czasu oraz porównanie metod numerycznych z analityczną. Podejmiemy się również wyzwania przedstawienia relatywnej wielkości Wszechświata w formie funkcji czasu kosmicznego oraz wyznaczenia obecnego wieku Wszechświata."
   ]
  },
  {
   "cell_type": "markdown",
   "id": "32139c74",
   "metadata": {},
   "source": [
    "# **2. Zagadnienia wprowadzające**"
   ]
  },
  {
   "cell_type": "markdown",
   "id": "eb318bc7",
   "metadata": {},
   "source": [
    "W celu komfortowego eksplorowania zagadnień projektowych warto zdefiniować i wyjaśnić parę pojęć. Równania Friedmanna to zestaw równań w kosmologii, które opisują ekspansję wszechświata. Aby skorzystać z tych równań, przyjmuje się kilka założeń:\n",
    "\n",
    "* Wszechświatem rządzi zasada kosmologiczna, co oznacza, że Wszechświat jest **jednorodny** (układ ma takie same właściwości w każdym punkcie) i **izotropowy** (rozłożony w każdym kierunku). Możemy zatem przyjąć, że dowolny punkt wszechświata jest jego centrum. Nie ma jednak centrum ekspansji; wszystkie punkty oddalają się od siebie.\n",
    "\n",
    "* Wszechświat składa się z doskonałego płynu, co oznacza, że materię i energię we wszechświecie można modelować jako pojedynczy płyn o określonym równaniu stanu. Płyn o gęstości **$\\rho$** i ciśnieniu **$p$** są najistotniejszymi parametrami (z punktu widzenia dynamiki Wszechświata).\n",
    "\n",
    "* Wszechświat opisuje ogólna teoria względności, czyli teoria grawitacji opracowana przez Einsteina.\n",
    "\n",
    "* W oryginalnych równaniach Friedmanna, wyprowadzonych przez Alexandra Friedmanna w 1922 r., stała kosmologiczna (stała wprowadzona przez Alberta Einsteina do ogólnej teorii względności pomagająca w modelowaniu statycznego modelu Wszechświata) jest równa zeru. Oznacza to, że równania nie zawierają członu reprezentującego gęstość energii próżni kosmicznej. \n",
    "\n",
    "Zakładając te właściwości, równania Friedmanna można wykorzystać do opisania rozszerzania się wszechświata oraz zachowania się w nim materii i energii.\n",
    "\n",
    "**Metryka Friedmanna-Lemaître-Robertsona-Walkera (FLRW)** będąca matematyczną reprezentacją jednorodnego i izotropowego Wszechświata jest ściśle powiązana z równaniami Friedmanna, ponieważ równania te wywodzą się z tejże metryki i wykorzystują ją do opisu dynamiki Wszechświata Jest to 4-wymiarowa metryka czasoprzestrzeni:\n",
    "\n",
    "$${ds}^2 = {dt}^2 - a(t)^2\\left(\\frac{dr^2}{1-kr^2} + r^2d\\theta^2 + r^2d\\Omega^2\\right),$$\n",
    "\n",
    "gdzie $a(t)$ to współczynnik skali, $k$ jest parametrem krzywizny, a $r$ to odległość we współrzędnych współporuszających się związana z odległością od obserwatora do obiektu we wszechświecie. Współrzędną czasową jest $t$. Z kolei $\\Omega^2 = \\theta^2 + sin^2{\\theta}\\phi$.\\\n",
    "**Współrzędne współporuszające** można traktować jako współrzędne przenoszone przez ekspansję - zbiór współrzędnych, w których odległość między dowolnymi dwoma współporuszającymi się obiektami pozostaje stała w miarę rozszerzania się wszechświata. Pozwalają one na opisanie położenia galaktyk i innych obiektów astronomicznych w stosunku do całego rozszerzającego się Wszechświata.\n",
    "\n",
    "Siatka współrzędnych reprezentująca dwie galaktyki w danych czasach kosmologicznych:\n",
    "\n",
    "\n",
    "<img src = \"http://cloudynights.com/images/2019/Kolkich_BASIC%20EXTRAGALACTIC%20ASTRONOMY_part2_files/image001.gif\">\n",
    "https://www.cloudynights.com/articles/cat/articles/basic-extragalactic-astronomy-part-2-distance-luminosity-and-the-hubble-parameter-r3214\\n"
   ]
  },
  {
   "cell_type": "markdown",
   "id": "f76c807b",
   "metadata": {},
   "source": [
    "Parametry występujące w modelu:\n",
    "* $E_p$ - energia potencjalna,\n",
    "* $E_k$ - energia kinetyczna,\n",
    "* $a(t)$ - bezwymiarowy współczynnik będący stosunkiem wielkości wszechświata w danym momencie do jego wielkości w pewnym czasie odniesienia, zwykle obecnym. Ma wartość od 0 do 1 dla czasów w przeszłości i większą niż 1 dla czasów w przyszłości, \n",
    "* $a_0$ - obecna wartość współczynnika skali,\n",
    "* $H(t)$ - opisuje tempo rozszerzania się Wszechświata w chwili obecnej. Decydujemy się na model, gdzie stała Hubble'a może zmieniać się w czasie,\n",
    "* $H_0$ - obecna wartość stałej Hubble'a,\n",
    "* $k$ - parametr krzywizny opisujący przestrzenną krzywiznę wszechświata. Może przyjmować wartości -1, 0, 1 odpowiadające odpowiednio Wszechświatowi otwartemu, płaskiemu i zamkniętemu. Wartość $k$ jest stałą, która nie zmienia się w czasie ani w przestrzeni i służy do opisu geometrii Wszechświata.\n",
    "Fizyczne właściwości Wszechświata w modelu Friedmanna opisują parametry gęstości:\n",
    "* $\\Omega_m$ - parametr gęstości materii, czyli stosunek gęstości materii we Wszechświecie do krytycznej gęstości wszechświata w danym czasie,\n",
    "* $\\Omega_r$ - parametr gęstości materii, czyli stosunek gęstości promieniowania we Wszechświecie do krytycznej gęstości wszechświata w danym czasie,\n",
    "* $\\rho_m$ - gęstość materii,\n",
    "* $\\rho_r$ - gęstość promieniowania."
   ]
  },
  {
   "cell_type": "markdown",
   "id": "706f902c",
   "metadata": {},
   "source": [
    "\n",
    "\t \n",
    "\t"
   ]
  },
  {
   "cell_type": "markdown",
   "id": "c2c0ef7b",
   "metadata": {},
   "source": [
    "# **3. Część matematyczna**"
   ]
  },
  {
   "cell_type": "markdown",
   "id": "5c07fc0e",
   "metadata": {},
   "source": [
    "Korzystając z teorii grawitacji Newtona, biorąc cząstkę masy $M$ będącą w promieniu $R$ z centralnego punktu, na cząstkę będzie działała wypadkowa siła grawitacji tylko od materii, która ją przyciąga z promienia $R$. Materię, która jest we wnętrzu $M$ oznaczymy jako $m$. Wiedząc, że $M = V\\rho = \\frac{4}{3}{\\pi}R^{3}\\rho$: "
   ]
  },
  {
   "cell_type": "markdown",
   "id": "5f68815a",
   "metadata": {},
   "source": [
    "\\begin{equation}\n",
    "F = \\frac{GMm}{R^2} = \\frac{4{\\pi}G{\\rho}Rm}{3},\n",
    "\\end{equation}"
   ]
  },
  {
   "cell_type": "markdown",
   "id": "d5afae01",
   "metadata": {},
   "source": [
    "\\begin{equation}\n",
    "E_p = -\\frac{GMm}{R} = \\frac{4{\\pi}G{\\rho}R^2m}{3},\n",
    "\\end{equation}"
   ]
  },
  {
   "cell_type": "markdown",
   "id": "8177f2ea",
   "metadata": {},
   "source": [
    "\\begin{equation}\n",
    "E_k = \\frac{m{\\dot{R}}^2}{2}.\n",
    "\\end{equation}"
   ]
  },
  {
   "cell_type": "markdown",
   "id": "f4c0b9bf",
   "metadata": {},
   "source": [
    "Korzystając z zasady zachowania energii: $$E = \\frac{1}{2}m\\dot{R}^2 - \\frac{4{\\pi}}{3}G{\\rho}R^2m.$$"
   ]
  },
  {
   "cell_type": "markdown",
   "id": "26341390",
   "metadata": {},
   "source": [
    "Mamy zatem równanie wiążące $\\dot{R}$ z $R$. Daje to nam ewolucję w czasie cząstki z punktem wybranym jako środek. Z założenia jednorodnego Wszechświata wynika, że powyższe równanie musi odnosić się do dowolnych dwóch cząstek oddalonych od siebie, więc\n",
    "naszym początkiem będzie dowolna cząsteczka. W celu uwzględnienia ekspansji posługujemy się współrzędnymi współporuszającymi się: $$\\overrightarrow{R} = a(t)\\overrightarrow{x},$$ \n",
    "gdzie $x$ to współprzemieszczająca się odległość.\n",
    "Dlatego przekształczamy:"
   ]
  },
  {
   "cell_type": "markdown",
   "id": "8f9b0de9",
   "metadata": {},
   "source": [
    "$$E = \\frac{1}{2}mR^2 - \\frac{4{\\pi}}{3}G{\\rho}R^2m \\xrightarrow{\\overrightarrow{R} = a(t)\\overrightarrow{x}} E = \\frac{1}{2}m{\\dot{a}}^2x^2 - \\frac{4{\\pi}}{3}G{\\rho}a^2x^2m.$$\n",
    "\n",
    "Przemnażając równanie przez $\\frac{2}{ma^2x^2}$ otrzymujemy: $$\\frac{2E}{ma^2x^2} = \\frac{\\dot{a}^2}{a^2} - \\frac{8{\\pi}}{3}G{\\rho}.$$"
   ]
  },
  {
   "cell_type": "markdown",
   "id": "fddc2092",
   "metadata": {},
   "source": [
    "Porządkując je otrzymujemy Newtonowskie rozwiązanie równania Friedmanna:\n",
    "\n",
    "$$\\left(\\frac{\\dot{a}}{a}\\right)^2 = \\frac{8{\\pi}}{3}G{\\rho} + \\frac{2E}{ma^2x^2},$$\n",
    "\n",
    "oznaczając $k = -\\frac{2E}{mx^2}$. Wiemy już, że krzywizna Wszechświata, reprezentowana przez k jest określona przez gęstość materii i energii, reprezentowaną przez E oraz separację cząstek we Wszechświecie, reprezentowaną przez x. Jednorodność Wszechświata wymaga, aby k było niezależne od x, a E zmieniało się wraz z x. Zatem k jest po prostu stałą, niezmienną zarówno w przestrzeni, jak i w czasie. Równanie przybiera postać: "
   ]
  },
  {
   "cell_type": "markdown",
   "id": "84e01e44",
   "metadata": {},
   "source": [
    "\\begin{equation}\n",
    "\\left(\\frac{\\dot{a}}{a}\\right)^2 = \\frac{8{\\pi}}{3}G{\\rho} - \\frac{kc^2}{a^2}.\n",
    "\\label{eq:rownanie1} \n",
    "\\tag{1}\n",
    "\\end{equation}"
   ]
  },
  {
   "cell_type": "markdown",
   "id": "bbb9f4c0",
   "metadata": {},
   "source": [
    "$\\dot{a}$ mówi nam o wskazniku ekspansji Wszechświata. Możemy tutaj dostrzec jeszcze pewną zależność. Prędkość ucieczki galaktyk jest równa: $\\dot{r} = H(t)r$.\n",
    "$$\\overrightarrow{v} = \\frac{|\\dot{\\overrightarrow{R}}|}{|\\overrightarrow{R}|} = \\frac{\\dot{\\overrightarrow{a}}}{ax}\\overrightarrow{r} = \\frac{\\dot{a}}{a}\\overrightarrow{r},$$\n",
    "czyli"
   ]
  },
  {
   "cell_type": "markdown",
   "id": "415b78c3",
   "metadata": {},
   "source": [
    "\\begin{equation}\n",
    "\\frac{\\dot{a}}{a}\\overrightarrow{r} = H\\overrightarrow{r} \\implies \\frac{\\dot{a}}{a} = H.\n",
    "\\label{eq:rownanie2} \n",
    "\\tag{2}\n",
    "\\end{equation}\n",
    "Ostatecznie:\n",
    "$$H^2 = \\left(\\frac{\\dot{a}}{a}\\right)^2 = \\frac{8{\\pi}}{3}G{\\rho} - \\frac{kc^2}{a^2}.$$"
   ]
  },
  {
   "cell_type": "markdown",
   "id": "b0660871",
   "metadata": {},
   "source": [
    "Wartość stałej Hubble'a w zaeżności od odległości i pręskości ucieczki galaktyk:"
   ]
  },
  {
   "cell_type": "code",
   "execution_count": 1,
   "id": "58d08eea",
   "metadata": {},
   "outputs": [
    {
     "name": "stderr",
     "output_type": "stream",
     "text": [
      "<ipython-input-1-d9e761f0b1e0>:12: FutureWarning: `rcond` parameter will change to the default of machine precision times ``max(M, N)`` where M and N are the input matrix dimensions.\n",
      "To use the future default and silence this warning we advise to pass `rcond=None`, to keep using the old, explicitly pass `rcond=-1`.\n",
      "  nachylenie, _, _, _ = np.linalg.lstsq(x[:, np.newaxis], y)\n"
     ]
    },
    {
     "data": {
      "image/png": "[encoded data removed]",
      "text/plain": [
       "<Figure size 432x288 with 1 Axes>"
      ]
     },
     "metadata": {
      "needs_background": "light"
     },
     "output_type": "display_data"
    }
   ],
   "source": [
    "import matplotlib.pyplot as plt\n",
    "import numpy as np\n",
    "## https://cmateu.github.io/Cecilia_Mateu_WebPage/PUA_files/ProjectE_HubbleLaw.pdf\n",
    "# Dane odległości i prędkości ucieczki kilku galaktyk\n",
    "dystanse = [36, 52, 32, 63, 19, 25]\n",
    "predkosc = [2375, 4247, 1813, 4203, 1484, 1903]\n",
    "\n",
    "x = np.array(dystanse)\n",
    "y = np.array(predkosc)\n",
    "\n",
    "# Obliczam nachylenie za pomocą regresji liniowej\n",
    "nachylenie, _, _, _ = np.linalg.lstsq(x[:, np.newaxis], y)\n",
    "\n",
    "# Wartość stałej Hubble'a jest równa nachyleniu prostej\n",
    "\n",
    "plt.plot(dystanse, predkosc, 'bo')\n",
    "\n",
    "plt.plot(x, nachylenie * x, 'r')\n",
    "\n",
    "plt.xlabel('Dystanse (Mpc)')\n",
    "plt.ylabel('Prędkość (km/s)')\n",
    "\n",
    "plt.show()"
   ]
  },
  {
   "cell_type": "markdown",
   "id": "5ecd515e",
   "metadata": {},
   "source": [
    " **Równanie stanu**"
   ]
  },
  {
   "cell_type": "markdown",
   "id": "9e096955",
   "metadata": {},
   "source": [
    "Stosując równanie stanu wiążemy zmienne gęstości $\\rho$ i ciśnienia $p$ materii Wszechświata zależne od czasu. Zakładamy, że nasz płyn idealny jest barotropowym płynem, czyli jego gęstość jest zależna jedynie od ciśnienia: $$p = {\\omega}{\\rho}c^2$$\n",
    "gdzie dla świata zdominowanego przez materię $\\omega = 0$, a przez promieniowanie $\\omega = \\frac{1}{3}$.\n",
    "Z I zasady termodynamiki przekształcając: $$E = mc^2 = V{\\rho}c^2 = \\frac{4{\\pi}a^3}{3}{\\rho}c^2,$$\n",
    "różniczkujemy energię oraz objętość po czasie. Z I prawa termodynamiki $\\dot{E} + p\\dot{V} = 0.$\n",
    "Otrzymujemy więc $4{\\pi}a^2{\\rho}c^2\\frac{da}{dt} + \\frac{4{\\pi}a^3}{3}\\frac{d{\\rho}}{dt}c^2 + 4p{\\pi}a^2\\frac{da}{dt} = 0.$\n",
    "Po skróceniu: \n",
    "\\begin{equation}\n",
    "\\dot{\\rho} = -3\\frac{\\dot{a}}{a}\\left({\\rho}+\\frac{{p}}{c^2}\\right).\n",
    "\\label{eq:rownanie3} \n",
    "\\tag{3}\n",
    "\\end{equation}\n"
   ]
  },
  {
   "cell_type": "markdown",
   "id": "a8ec0762",
   "metadata": {},
   "source": [
    "W celu wyliczenia gęstości, do równania podstawiamy $p = \\omega{\\rho}c^2$:\n",
    "\n",
    "\n",
    "$$\\frac{\\dot{\\rho}}{\\rho} = -3\\frac{\\dot{a}}{a}\\left(1+{\\omega}\\right).$$\n",
    "\n",
    "\n",
    "Całkujemy obustronnie i otrzymujemy:\n",
    "\n",
    "\n",
    "$$\\ln{\\frac{\\rho}{\\rho_0}} = -3\\left(1+{\\omega}\\right)\\ln{\\frac{a}{a_0}} + C$$\\\n",
    "$$e^{\\ln{\\frac{\\rho}{\\rho_0}}} = \\left(e^{\\ln{\\frac{a}{a_0}}}\\right)^{-3\\left(1+{\\omega}\\right)}e^C$$\\\n",
    "$$\\frac{\\rho}{\\rho_0} = C\\left(\\frac{a}{a_0}\\right)^{-3\\left(1+{\\omega}\\right)}.$$\\\n",
    "Sprowadzając stałe do jednej stałej $K = C\\frac{1}{a_0^{-3\\left(1+{\\omega}\\right)}}\\rho_0$, ostatecznie otrzymujemy równanie dla gęstości energii Wszechświata w zależności od $a$:\n",
    "\n",
    "\\begin{equation}\n",
    "\\rho(a) = Ka^{-3\\left(1+{\\omega}\\right)}\n",
    "\\label{eq:rownanie4} \n",
    "\\tag{4}\n",
    "\\end{equation}\n",
    "\n",
    "\n",
    "Dla Wszechświata zdominowanego przez materię $\\omega$ jest równa zero, a $\\rho(a) \\propto a^{-3}$. Z kolei dla zdominowanego przez promieniowanie $\\omega = 1/3$, czyli $\\rho(a) \\propto a^{-4}.$"
   ]
  },
  {
   "cell_type": "markdown",
   "id": "b12ed56d",
   "metadata": {},
   "source": [
    " **Przyspieszenie ekspansji**"
   ]
  },
  {
   "cell_type": "markdown",
   "id": "4f25524f",
   "metadata": {},
   "source": [
    "Równanie Friedmanna różniczkujemy po czasie:\n",
    "\n",
    "$$2\\frac{\\dot{a}}{a}\\frac{a \\ddot{a}-\\dot{a}^2}{a^2} = \\frac{8{\\pi}G}{3}\\dot{\\rho} + 2\\frac{kc^2\\dot{a}}{a^3},$$\n",
    "\n",
    "następnie podstawiam $\\dot{\\rho} = -3\\frac{\\dot{a}}{a}({\\rho}+\\frac{{p}}{c^2})$ i otrzymujemy: \n",
    "\n",
    "$$\\frac{\\ddot{a}}{a}-\\left(\\frac{\\dot{a}}{a}\\right)^2 = 4{\\pi}G\\left(\\rho + \\frac{p}{c^2}\\right) + \\frac{kc^2}{a^2}.$$\n",
    "\n",
    "Ponownie korzystamy z równania Friedmanna i ostatecznie uzyskujemy równanie na przyspieszenie: \n",
    "\n",
    "\\begin{equation}\n",
    "\\dot{H} + H^2 = \\frac{\\ddot{a}}{a} = -4{\\pi}G\\left(\\rho + \\frac{p}{c^2}\\right) + \\frac{kc^2}{a^2},\n",
    "\\label{eq:rownanie5} \n",
    "\\tag{5}\n",
    "\\end{equation}\n",
    "\n",
    "\n",
    "gdzie $\\ddot{a}$ mówi nam o przyspieszeniu ekspansji Wszechświata. Ujemny znak przyspieszenia jest spowodowany faktem, że ekspansja zwalnia na skutek grawitacji. Zarazem ciśnienie materii powoduje zwiększenie siły grawitacji."
   ]
  },
  {
   "cell_type": "markdown",
   "id": "655a7269",
   "metadata": {},
   "source": [
    "**Gęstość krytyczna**"
   ]
  },
  {
   "cell_type": "markdown",
   "id": "628131d0",
   "metadata": {},
   "source": [
    "Jest to gęstość jaką miałby Wszechświat o płaskiej geometrii przestrzeni, czyli $k=0$: \n",
    "\n",
    "\\begin{equation}\n",
    "H^2 = \\frac{8{\\pi}}{3}G{\\rho} \\Rightarrow \\rho_{kryt} = \\frac{3H^2}{8G\\pi}\n",
    "\\label{eq:rownanie6} \n",
    "\\tag{6}\n",
    "\\end{equation}\n",
    "\n",
    "Jest to istotna wielkość definiująca parametry gęstości. Oznaczmy parametr gęstości jako $\\Omega$. Jest on definiowany jako parametr  gęstości $\\rho$ do gęstości krytycznej, $\\rho_{kryt}$: \n",
    "\n",
    "\\begin{equation}\n",
    "\\Omega = \\frac{\\rho}{\\rho_{kryt}} = \\frac{8{\\pi}G\\rho}{3H^2}.\n",
    "\\label{eq:rownanie7} \n",
    "\\tag{7}\n",
    "\\end{equation}\n",
    "\n",
    "\n",
    "Dla $\\Omega_m$ pod $\\rho$ podstawiamy $\\rho_m$, a w przypadku $\\Omega_r$, $\\rho_r$."
   ]
  },
  {
   "cell_type": "markdown",
   "id": "66dbcb64",
   "metadata": {},
   "source": [
    "Żeby dobrze zobaczyć istotę parametru gęstości, doraźniej możemy dostrzec zależności przekształcając pierwsze równanie Friedmanna:\n",
    "\n",
    "$$H^2 = \\frac{8{\\pi}G\\rho}{3} - \\frac{kc^2}{a^2}/:H^2$$\n",
    "\\begin{equation}\n",
    "1 = \\Omega_m + \\Omega_r + \\Omega_k,\n",
    "\\label{eq:rownanie8} \n",
    "\\tag{8}\n",
    "\\end{equation}\n",
    "\n",
    "gdzie $\\Omega_k = -\\frac{k^2}{a^2H_0}$, a $\\rho = \\rho_m + \\rho_r$."
   ]
  },
  {
   "cell_type": "markdown",
   "id": "70dba73b",
   "metadata": {},
   "source": [
    "Pierwsze równanie Friedmanna jest często postrzegane w kategoriach aktualnych wartości parametrów gęstości, czyli $\\frac{H^2}{H_0^{2}} = \\Omega_m\\left(\\frac{a}{a_0}\\right)^{-3} + \\Omega_r\\left(\\frac{a}{a_0}\\right)^{-4} + \\Omega_k\\left(\\frac{a}{a_0}\\right)^{-2}$. Wyprowadzjąc te równanie otrzymujemy:\n",
    "$$H = \\frac{\\dot{a}}{a} = H_0\\sqrt{\\Omega_m\\left(\\frac{a}{a_0}\\right)^{-3} + \\Omega_r\\left(\\frac{a}{a_0}\\right)^{-4} + \\Omega_k\\left(\\frac{a}{a_0}\\right)^{-2}}$$\\\n",
    "Otrzymujemy równanie jednorodne, które również rozwiążemy metodą rozdzielana zmiennych:\n",
    " $$ \\frac{da}{dt} = aH_0\\sqrt{\\Omega_m\\left(\\frac{a_0}{a}\\right)^3 + \\Omega_r\\left(\\frac{a_0}{a}\\right)^4 + \\Omega_k\\left(\\frac{a_0}{a}\\right)^2}$$\\\n",
    "Dzielimy obustronnie przez $\\sqrt{\\Omega_m\\left(\\frac{a_0}{a}\\right)^3 + \\Omega_r\\left(\\frac{a_0}{a}\\right)^4 + \\Omega_k\\left(\\frac{a_0}{a}\\right)^2}$:\n",
    "$$H_0dt = \\frac{da}{\\sqrt{\\Omega_m\\left(\\frac{a_0}{a}\\right)^3 + \\Omega_r\\left(\\frac{a_0}{a}\\right)^4 + \\Omega_k\\left(\\frac{a_0}{a}\\right)^2}}$$\\\n",
    "Całkujemy obustronnie, dzielimy przez $H_0$ i ostatecznie otrzymujemy:"
   ]
  },
  {
   "cell_type": "markdown",
   "id": "bb7aa42f",
   "metadata": {},
   "source": [
    "\\begin{equation}\n",
    "t = \\int \\frac{\\operatorname{d}\\!{a}}{aH_0\\sqrt{\\Omega_r(\\frac{a_0}{a})^4 + \\Omega_m(\\frac{a_0}{a})^3 + \\Omega_k(\\frac{a_0}{a})^2}}\n",
    "\\label{eq:rownanie9} \n",
    "\\tag{9}\n",
    "\\end{equation}"
   ]
  },
  {
   "cell_type": "markdown",
   "id": "46008e1e",
   "metadata": {},
   "source": [
    "W celu analitycznego obliczenia współczynnika skali, korzystamy z I równania Friedmanna. Wyprowadzimy je dla Wszechświata zdominowanego przez materię: \n",
    "\n",
    "$$\\frac{\\dot{a}^2}{a^2} = H_0^2\\Omega_{m}a^{-3}$$\n",
    "$$\\bigg(\\frac{da}{dt}\\bigg)^2 = H_0^2\\Omega_{m}a^{-1}.$$\n",
    "\n",
    "Uzmienniamy stałe i całkujemy:\n",
    "\n",
    "$$\\int a^{1/2}\\operatorname{d}\\!{a} = \\int H_0\\sqrt{\\Omega_m}\\operatorname{d}\\!{t}$$\n",
    "\n",
    "$$\\frac{2}{3}a^{3/2} = H_0\\sqrt{\\Omega_m}t + K.$$\n",
    "Ostatecznie otrzymujemy:\n",
    "\n",
    "$$a(t) = \\bigg(\\frac{3}{2}sqrt{\\Omega_m}H_0t + K\\bigg)^{2/3}.$$\n",
    "\n",
    "Wartość K jest stała. Wiemy również, że dla obecnego czasu, $t = 0$, $a(0) = 1$. W takim razie: $a(0) = 1 = K^{2/3} \\implies K = 1$. Ostatecznie:\n",
    "\n",
    "\\begin{equation}\n",
    "a(t) = \\bigg(\\frac{3}{2}\\sqrt{\\Omega_m}H_0t + 1 \\bigg)^{2/3}.\n",
    "\\label{eq:rownanie10} \n",
    "\\tag{10}\n",
    "\\end{equation}\n",
    "\n",
    "Pokazuje nam to, że dla płaskiego Wszechświata zdominowanego przez materię, $a \\propto t^\\frac{2}{3}$."
   ]
  },
  {
   "cell_type": "markdown",
   "id": "ad7f324b",
   "metadata": {},
   "source": [
    "$\\eqref{eq:rownanie7}$"
   ]
  },
  {
   "cell_type": "markdown",
   "id": "53b6cd59",
   "metadata": {},
   "source": [
    "# **4. Metody numeryczne**"
   ]
  },
  {
   "cell_type": "markdown",
   "id": "df0d6c8e",
   "metadata": {},
   "source": [
    "Duża część równań różniczkowych jest bardzo trudna do rozwiążania, a czasami nawet niemożliwa. Z tego powodu często korzysta się z metod numerycznych znajdowania rozwiążań tych równań. Są one niczym innym jak próbą najlepszej aproksymacji wyniku równania za pomocą różnego rodzaju algorytmów."
   ]
  },
  {
   "cell_type": "markdown",
   "id": "df5bad2d",
   "metadata": {},
   "source": [
    "**Metoda Eulera dla równań różniczkowych zwyczajnych rzędu pierwszego**"
   ]
  },
  {
   "cell_type": "markdown",
   "id": "2fd953c4",
   "metadata": {},
   "source": [
    "Jedną z najprostszych ale zarazem mało dokładnych metod numerycznych jest metoda Eulera. Jest to sposób rozwiązywania równań różniczkowych, opierający się na interpretacji geometrycznej równania różniczkowego. Po raz pierwszy została ona przedstawiona w 1768 roku w podręczniku Leonharda Eulera pt. Institutiones calculi differentialis („Kształcenie w rachunku różniczkowym”).\n",
    "\n",
    "Metoda podstawowa Eulera dla równań postaci:\n",
    "$$ \\dot{y} = f(t,y) $$\n",
    "$$ a \\leq t \\leq b $$\n",
    "$$ {y_0} = y({t_0}) $$\n",
    "\n",
    "pochodna y' jest przybliżona przez równanie:\n",
    "\n",
    "$$ {y_{n+1} = {y_n} + hf({t_n}, {y_n})} $$\n",
    "\n",
    "gdzie h jest wielkością kroku czasowego wynoszącą: $$ h = {t_{n+1}} - {t_n} $$ \n",
    "dla $ n = 0,1,2,3,... $"
   ]
  },
  {
   "cell_type": "code",
   "execution_count": 2,
   "id": "f35bbac3",
   "metadata": {},
   "outputs": [],
   "source": [
    "import numpy as np\n",
    "import matplotlib.pyplot as plt\n",
    "from math import sqrt, pi\n",
    "\n",
    "def euler(f, y0, a, b, h, t):\n",
    "    N=int((b-a)/h)\n",
    "    y = np.zeros(N)\n",
    "    y[0] = y0\n",
    "    for n in range (0, N-1):\n",
    "        y[n+1] = y[n] + h * f(t[n], y[n])\n",
    "\n",
    "    return y"
   ]
  },
  {
   "cell_type": "markdown",
   "id": "c4bcd005",
   "metadata": {},
   "source": [
    "Zobaczmy najpierw jak dokładne będzie rozwiązanie równania $\\eqref{eq:rownanie10}$:"
   ]
  },
  {
   "cell_type": "code",
   "execution_count": 3,
   "id": "004d6feb",
   "metadata": {},
   "outputs": [
    {
     "data": {
      "image/png": "[encoded data removed]",
      "text/plain": [
       "<Figure size 432x288 with 1 Axes>"
      ]
     },
     "metadata": {
      "needs_background": "light"
     },
     "output_type": "display_data"
    }
   ],
   "source": [
    "a=0\n",
    "b=10\n",
    "h=0.1\n",
    "t=np.arange(a,b,h)\n",
    "y0 = 1\n",
    "H = 0.67\n",
    "omega_m = 1\n",
    "def f(t, y):\n",
    "    return H*sqrt(omega_m/y)\n",
    "\n",
    "analytic = ((3/2)*sqrt(omega_m)*H*t + y0)**(2/3)\n",
    "func = euler(f, y0, a, b, h, t)\n",
    "\n",
    "plt.plot(t, func, \"--\", color=\"red\", label=\"Numerical\")\n",
    "plt.plot(t, analytic, color=\"blue\", label=\"analytic\")\n",
    "plt.grid()"
   ]
  },
  {
   "cell_type": "markdown",
   "id": "f7ccb601",
   "metadata": {},
   "source": [
    "Błąd obliczeniowy w metodzie Eulera dla $h = 0.1$ jest praktycznie znikomy. Wykres równania analitycznego i numerycznego nachodzi na siebie prawie, że idealnie.\n",
    "\n",
    "Natomiast co się stanie, gdy znacząco zwiększymy krok czasowy? Niech $h = 1$."
   ]
  },
  {
   "cell_type": "code",
   "execution_count": 4,
   "id": "07eede1c",
   "metadata": {},
   "outputs": [
    {
     "data": {
      "image/png": "[encoded data removed]",
      "text/plain": [
       "<Figure size 432x288 with 1 Axes>"
      ]
     },
     "metadata": {
      "needs_background": "light"
     },
     "output_type": "display_data"
    }
   ],
   "source": [
    "a=0\n",
    "b=10\n",
    "h=1\n",
    "t=np.arange(a,b,h)\n",
    "y0 = 1\n",
    "H = 0.67\n",
    "omega_m = 1\n",
    "def f(t, y):\n",
    "    return H*sqrt(omega_m/y)\n",
    "\n",
    "analytic = ((3/2)*sqrt(omega_m)*H*t + y0)**(2/3)\n",
    "func = euler(f, y0, a, b, h, t)\n",
    "\n",
    "plt.plot(t, func, \"--\", color=\"red\", label=\"Numerical\")\n",
    "plt.plot(t, analytic, color=\"blue\", label=\"analytic\")\n",
    "plt.grid()"
   ]
  },
  {
   "cell_type": "markdown",
   "id": "40bfbb02",
   "metadata": {},
   "source": [
    "Dla takiego $h$ rozwiązanie numeryczne już znacząco odbiega od analitycznego. \n",
    "Pokażemy jednak, że dla dostatecznie małego kroku czasowego metoda Eulera jest bardzo zbliżona do metody analitycznej. Niech $h = 0.01$."
   ]
  },
  {
   "cell_type": "code",
   "execution_count": 5,
   "id": "da0e9175",
   "metadata": {},
   "outputs": [
    {
     "data": {
      "image/png": "[encoded data removed]",
      "text/plain": [
       "<Figure size 432x288 with 1 Axes>"
      ]
     },
     "metadata": {
      "needs_background": "light"
     },
     "output_type": "display_data"
    }
   ],
   "source": [
    "a=0\n",
    "b=10\n",
    "h=0.01\n",
    "t=np.arange(a,b,h)\n",
    "y0 = 1\n",
    "H = 0.67\n",
    "omega_m = 1\n",
    "def f(t, y):\n",
    "    return H*sqrt(omega_m/y)\n",
    "\n",
    "analytic = ((3/2)*sqrt(omega_m)*H*t + y0)**(2/3)\n",
    "func = euler(f, y0, a, b, h, t)\n",
    "\n",
    "plt.plot(t, func, \"--\", color=\"red\", label=\"Numerical\")\n",
    "plt.plot(t, analytic, color=\"blue\", label=\"analytic\")\n",
    "plt.grid()\n",
    "plt.show()"
   ]
  },
  {
   "cell_type": "markdown",
   "id": "ea9d0471",
   "metadata": {},
   "source": [
    "Widać na przedstawionym powyżej wykresie, że dla $h = 0.01$ przybliżone równanie numerycznie jest już bardzo dokładne; trzeba przybliżyć wykres, aby zauważyć jakąś różnicę. Wniosek jest taki, że metoda ta jest skuteczna dla dostatecznie małych wartości $h$, a jej błąd jest niewielki, więc jest ona bardzo użyteczna. Niestety zmniejszając $h$ zwiększamy także ilość iteracji w naszym algorytmie, co skutkuje zwiększeniem czasu obliczeniowego. Przy takich prostych równaniach nie jest to istotne. Natomiast przy bardziej złożonych równaniach różniczkowych ma to kluczowe znaczenie. Obecnie używa się bardziej złożonych algorytmów niż metoda Eulera.\n",
    "\n",
    "Obliczmy dokładnie jaki błąd popełniamy dla różnych wartości $h$ (od $0.01$ do $1$) przy równaniu $ \\left(\\frac{da}{dt}\\right)^2 = H_0^2 \\Omega_ma^{-1}$. Żeby pokazać problem w przejrzysty sposób, odejmiemy od wartości wyliczonych analitycznie te wyliczone numerycznie i weźmiemy największą różnicę. Następnie  wyniki przedstawimy na wykresie o skali $log-log$ w celu znalezienia rzędu zastosowanej metody Eulera, który jest równy współczynnikowi nachylenia otrzymanej prostej."
   ]
  },
  {
   "cell_type": "code",
   "execution_count": 6,
   "id": "2ff65950",
   "metadata": {},
   "outputs": [
    {
     "data": {
      "image/png": "[encoded data removed]",
      "text/plain": [
       "<Figure size 432x288 with 1 Axes>"
      ]
     },
     "metadata": {
      "needs_background": "light"
     },
     "output_type": "display_data"
    }
   ],
   "source": [
    "import numpy as np\n",
    "import matplotlib.pyplot as plt\n",
    "from math import sqrt, pi\n",
    "\n",
    "def euler(f, y0, a, b, h, t):\n",
    "    N=int((b-a)/h)\n",
    "    y = np.zeros(N)\n",
    "    y[0] = y0\n",
    "    for n in range (0, N-1):\n",
    "        y[n+1] = y[n] + h * f(t[n], y[n])\n",
    "\n",
    "    return y\n",
    "\n",
    "a=0\n",
    "b=10\n",
    "y0 = 1\n",
    "H = 0.67\n",
    "omega_m = 1\n",
    "res = []\n",
    "N = np.arange(0.01,1,0.01)\n",
    "h_pass = []\n",
    "\n",
    "def f(t, y):\n",
    "    return H*sqrt(omega_m/y)\n",
    "\n",
    "for h in N:\n",
    "    t=np.arange(a,b,h)\n",
    "    analytic = ((3/2)*(sqrt(omega_m))*H*t + y0)**(2/3)\n",
    "    func = euler(f, y0, a, b, h, t)\n",
    "\n",
    "    if len(analytic) == len(func):\n",
    "        res.append(max(abs(analytic - func)))\n",
    "        h_pass.append(h)\n",
    "    else:\n",
    "        continue\n",
    "\n",
    "N = h_pass\n",
    "plt.loglog(N, res)\n",
    "plt.grid()\n",
    "plt.show()"
   ]
  },
  {
   "cell_type": "markdown",
   "id": "78b7ff8b",
   "metadata": {},
   "source": [
    "**Metoda Rungego-Kutty dla równań różniczkowych zwyczajnych rzędu pierwszego**"
   ]
  },
  {
   "cell_type": "markdown",
   "id": "eb863c32",
   "metadata": {},
   "source": [
    "Inną metodą numeryczną rozwiążywania równań różniczkowych zwyczajnych rzędu pierwszego jest algorytm Rungego-Kutty czwartego rzędu. Jest ona stosowana głównie w symulacjach fizycznych. Została opracowana około 1900 roku przez niemieckich matematyków: Carla Rungego oraz Martina Kuttę. Metoda Rungego-Kutty 4. rzędu jest powszechnie stosowana ze względu na prostotę implementacji, relatywnie proste wzory, dużą szybkość oraz wysoki rząd metody. Schemat iteracyjny dla równania $\\dot{y} = f(t,y)$ ma następującą postać:"
   ]
  },
  {
   "cell_type": "markdown",
   "id": "e566e324",
   "metadata": {},
   "source": [
    "$$ {y_{n+1}} = {y_n} + \\frac{1}{6}({k_1} + 2{k_2} + 2{k_3} + {k_4}) $$\n",
    "\n",
    "gdzie:\n",
    "$$ a \\leq t \\leq b $$\n",
    "$$ {y_0} = y({t_0}) $$\n",
    "$$ h = {t_{n+1}} - {t_n} $$ \n",
    "$$ {k_1} = hf({t_n},{y_n}) $$\n",
    "$$ {k_2} = hf({t_n} + \\frac{h}{2},{y_n} + \\frac{{k_1}}{2}) $$\n",
    "$$ {k_3} = hf({t_n} + \\frac{h}{2},{y_n} + \\frac{{k_2}}{2}) $$\n",
    "$$ {k_4} = hf({t_n} + h,{y_n} + {k_3}) $$\n",
    "dla $ n = 0,1,2,3,... $"
   ]
  },
  {
   "cell_type": "code",
   "execution_count": 7,
   "id": "7cbed049",
   "metadata": {},
   "outputs": [],
   "source": [
    "import numpy as np\n",
    "import matplotlib.pyplot as plt\n",
    "import math \n",
    "\n",
    "\n",
    "def runge_kutta(f, y0, a, b, h, t):\n",
    "    N=int((b-a)/h)\n",
    "    y = np.zeros(N)\n",
    "    y[0] = y0\n",
    "    for n in range (0, N-1):\n",
    "        k1 = h * f(t[n], y[n])\n",
    "        k2 = h * f(t[n] + 0.5*h, y[n] + 0.5*k1)\n",
    "        k3 = h * f(t[n] + 0.5*h, y[n] + 0.5*k2)\n",
    "        k4 = h * f(t[n] + h, y[n] + k3)\n",
    "        y[n+1] = y[n] + ((k1+ 2*k2 + 2*k3 + k4)/6)\n",
    "        \n",
    "    return y\n"
   ]
  },
  {
   "cell_type": "markdown",
   "id": "a873ee8d",
   "metadata": {},
   "source": [
    "Sprawdźmy działanie tego algorytmu dla $h = 1$ na przykładzie równania $\\eqref{eq:rownanie10}$:"
   ]
  },
  {
   "cell_type": "code",
   "execution_count": 8,
   "id": "e4fe815f",
   "metadata": {},
   "outputs": [
    {
     "data": {
      "image/png": "[encoded data removed]",
      "text/plain": [
       "<Figure size 432x288 with 1 Axes>"
      ]
     },
     "metadata": {
      "needs_background": "light"
     },
     "output_type": "display_data"
    }
   ],
   "source": [
    "a=0\n",
    "b=10\n",
    "h=1\n",
    "t=np.arange(a,b,h)\n",
    "y0 = 1\n",
    "H = 0.67\n",
    "omega_m = 1\n",
    "def f(t, y):\n",
    "    return H*sqrt(omega_m/y)\n",
    "\n",
    "analytic = ((3/2)*sqrt(omega_m)*H*t + y0)**(2/3)\n",
    "func = runge_kutta(f, y0, a, b, h, t)\n",
    "\n",
    "plt.plot(t, func, \"--\", color=\"red\", label=\"Numerical\")\n",
    "plt.plot(t, analytic, color=\"blue\", label=\"analytic\")\n",
    "plt.grid()"
   ]
  },
  {
   "cell_type": "markdown",
   "id": "153c892d",
   "metadata": {},
   "source": [
    "Jak widać algorytm Rungego-Kutty jest prawie identyczny jak rozwiązanie analityczne pomimo faktu, że użyliśmy małej dokładności równej $h = 1$. Metoda ta jest znacznie bardziej dokładna niż metoda Eulera.\n",
    "\n",
    "Jak w przypadku poprzedniej metody, obliczymy błędy, które popełniamy dla różnych $h$ oraz wywnioskujemy jakiego rzędu jest metoda Rungego-Kutty."
   ]
  },
  {
   "cell_type": "code",
   "execution_count": 9,
   "id": "fdae58a5",
   "metadata": {},
   "outputs": [
    {
     "data": {
      "image/png": "[encoded data removed]",
      "text/plain": [
       "<Figure size 432x288 with 1 Axes>"
      ]
     },
     "metadata": {
      "needs_background": "light"
     },
     "output_type": "display_data"
    }
   ],
   "source": [
    "import numpy as np\n",
    "import matplotlib.pyplot as plt\n",
    "from math import sqrt, pi\n",
    "\n",
    "def runge_kutta(f, y0, a, b, h, t):\n",
    "    t = np.arange(a,b,h)\n",
    "    N=int((b-a)/h)\n",
    "    y = np.zeros(N)\n",
    "    y[0] = y0\n",
    "    for n in range (0, N-1):\n",
    "        k1 = h * f(t[n], y[n])\n",
    "        k2 = h * f(t[n] + 0.5*h, y[n] + 0.5*k1)\n",
    "        k3 = h * f(t[n] + 0.5*h, y[n] + 0.5*k2)\n",
    "        k4 = h * f(t[n] + h, y[n] + k3)\n",
    "        y[n+1] = y[n] + ((k1+ 2*k2 + 2*k3 + k4)/6)\n",
    "\n",
    "    return y\n",
    "\n",
    "a=0\n",
    "b=10\n",
    "y0 = 1\n",
    "H = 0.67\n",
    "omega_m = 1\n",
    "res = []\n",
    "N = np.arange(0.01,1,0.01)\n",
    "h_pass = []\n",
    "\n",
    "def f(t, y):\n",
    "    return H*sqrt(omega_m/y)\n",
    "\n",
    "for h in N:\n",
    "    t=np.arange(a,b,h)\n",
    "    analytic = ((3/2)*(sqrt(omega_m))*H*t + y0)**(2/3)\n",
    "    func = runge_kutta(f, y0, a, b, h, t)\n",
    "\n",
    "    if len(analytic) == len(func):\n",
    "        res.append(max(abs(analytic - func)))\n",
    "        h_pass.append(h)\n",
    "    else:\n",
    "        continue\n",
    "\n",
    "N = h_pass\n",
    "plt.loglog(N, res)\n",
    "plt.grid()\n",
    "plt.show()"
   ]
  },
  {
   "cell_type": "markdown",
   "id": "d29b64db",
   "metadata": {},
   "source": [
    "Z wykresu powyżej odczytujemy, że współczynnik nachylenia prostej jest równy $4$, a więc algorytm Runge-Kutty jest rzędu czwartego. Widać także, jak małe są błędy obliczeniowe tego algorytmu."
   ]
  },
  {
   "cell_type": "markdown",
   "id": "930b25eb",
   "metadata": {},
   "source": [
    "**Metoda Eulera dla równań różniczkowych zwyczajnych rzędu drugiego**"
   ]
  },
  {
   "cell_type": "markdown",
   "id": "1a75aeb0",
   "metadata": {},
   "source": [
    "W celu rozwiązania równania różniczkowego zwyczajnego rzędu drugiego, należy zmodyfikować przedstawioną wyżej metodę Eulera i podstawienie za $\\dot{y} = z$. Należy też uwzględnić metodę o nową zmienną: $z$  \n",
    "Podsumowując dla równań postaci:"
   ]
  },
  {
   "cell_type": "markdown",
   "id": "a5394224",
   "metadata": {},
   "source": [
    "$$\\ddot{y} = f(t,y, \\dot{y}).$$\\\n",
    "Korzystając z podstawienia $z = \\dot{y}$ otrzymujemy układ równań:\n",
    "\n",
    "$$ \\dot{y} = z = f(t,y,z) $$\n",
    "$$ \\dot{z} = \\ddot{y} = g(t,y,z) $$\n",
    "gdzie:\n",
    "$$ a \\leq t \\leq b $$\n",
    "$$ {y_0} = y({t_0}) $$\n",
    "$$ {z_0} = z({t_0}) $$\n",
    "\n",
    "pochodna \\ddot{y} jest przybliżona przez równanie:\n",
    "\n",
    "$$ {y_{n+1} = {y_n} + hf({t_n}, {y_n}, {z_n})} $$\n",
    "$$ {z_{n+1} = {z_n} + hg({t_n}, {y_n}, {z_n})} $$\n",
    "dla $ n = 0,1,2,3,... $ \\\n",
    "gdzie h jest wielkością kroku czasowego wynoszącą: $$ h = {t_{n+1}} - {t_n} $$ "
   ]
  },
  {
   "cell_type": "code",
   "execution_count": 10,
   "id": "dfef1d6d",
   "metadata": {},
   "outputs": [],
   "source": [
    "import numpy as np\n",
    "import matplotlib.pyplot as plt\n",
    "\n",
    "def euler(f, g, y0, z0, a, b, h, t):\n",
    "    N=int((b-a)/h)\n",
    "    y = np.zeros(N)\n",
    "    z = np.zeros(N)\n",
    "    y[0] = y0\n",
    "    z[0] = z0\n",
    "    for n in range (0, N-1):\n",
    "        y[n+1] = y[n] + h * f(t[n], y[n], z[n])\n",
    "        z[n+1] = z[n] + h * g(t[n], y[n], z[n])\n",
    "\n",
    "    return y"
   ]
  },
  {
   "cell_type": "markdown",
   "id": "40e66c32",
   "metadata": {},
   "source": [
    "**Metoda Rungego-Kutty dla równań różniczkowych zwyczajnych rzędu drugiego**"
   ]
  },
  {
   "cell_type": "markdown",
   "id": "d2325015",
   "metadata": {},
   "source": [
    "Podobnie jak przy przekszetałceniu metody Eulera tak, ażeby uwzględniała ona równania różniczkowe rzędu drugiego robimy w algorytmie Rungego-Kutty. \\\n",
    "Zatem dla równań postaci:"
   ]
  },
  {
   "cell_type": "markdown",
   "id": "35aa7742",
   "metadata": {},
   "source": [
    "$$\\ddot{y} = f(t,y, \\dot{y}).$$\n",
    "Korzystając z podstawienia $z = y'$ otrzymujemy układ równań:\n",
    "$$ \\dot{y} = z = f(t,y,z) $$\n",
    "$$ \\dot{z} = \\ddot{y} = g(t,y,z),$$\n",
    "gdzie:\n",
    "$$ a \\leq t \\leq b $$\n",
    "$$ {y_0} = y({t_0}) $$\n",
    "$$ {z_0} = z({t_0}).$$\n",
    "\n",
    "Algorytm przyjmuje zmodyfikowaną postać:\n",
    "\n",
    "$$ {y_{n+1}} = {y_n} + \\frac{1}{6}({k_1} + 2{k_2} + 2{k_3} + {k_4}) $$\n",
    "$$ {z_{n+1}} = {z_n} + \\frac{1}{6}({l_1} + 2{l_2} + 2{l_3} + {l_4}),$$\n",
    "\n",
    "gdzie:\n",
    "$$ h = {t_{n+1}} - {t_n} $$ \n",
    "$$ {k_1} = hf({t_n},{y_n},{z_n}) $$\n",
    "$$ {l_1} = hg({t_n},{y_n},{z_n}) $$\n",
    "\n",
    "$$ {k_2} = hf({t_n} + \\frac{h}{2},{y_n} + \\frac{{k_1}}{2}, {z_n} + \\frac{{l_1}}{2}) $$\n",
    "$$ {l_2} = hg({t_n} + \\frac{h}{2},{y_n} + \\frac{{k_1}}{2}, {z_n} + \\frac{{l_1}}{2}) $$\n",
    "\n",
    "$$ {k_3} = hf({t_n} + \\frac{h}{2},{y_n} + \\frac{{k_2}}{2}, {z_n} + \\frac{{l_2}}{2}) $$\n",
    "$$ {l_3} = hg({t_n} + \\frac{h}{2},{y_n} + \\frac{{k_2}}{2}, {z_n} + \\frac{{l_2}}{2}) $$\n",
    "\n",
    "$$ {k_4} = hf({t_n} + h,{y_n} + {k_3}, {z_n} + {l_3}) $$\n",
    "$$ {l_4} = hf({t_n} + h,{y_n} + {k_3}, {z_n} + {l_3}) $$\n",
    "\n",
    "dla $ n = 0,1,2,3,...$"
   ]
  },
  {
   "cell_type": "code",
   "execution_count": 11,
   "id": "70c54314",
   "metadata": {},
   "outputs": [],
   "source": [
    "import numpy as np\n",
    "import matplotlib.pyplot as plt\n",
    "\n",
    "def runge_kutta(f, g, y0, z0, a, b, h, t):\n",
    "    N=int((b-a)/h)\n",
    "    y = np.zeros(N)\n",
    "    z = np.zeros(N)\n",
    "    y[0] = y0\n",
    "    z[0] = z0\n",
    "    for n in range (0, N-1):\n",
    "        k1 = h * f(t[n], y[n], z[n])\n",
    "        l1 = h * g(t[n], y[n], z[n])\n",
    "\n",
    "        k2 = h * f(t[n] + (h/2), y[n] + (k1/2), z[n] + (l1/2))\n",
    "        l2 = h * g(t[n] + (h/2), y[n] + (k1/2), z[n] + (l1/2))\n",
    "\n",
    "        k3 = h * f(t[n] + (h/2), y[n] + (k2/2), z[n] + (l2/2))\n",
    "        l3 = h * g(t[n] + (h/2), y[n] + (k2/2), z[n] + (l2/2))\n",
    "\n",
    "        k4 = h * f(t[n] + h, y[n] + k3, z[n] + l3)\n",
    "        l4 = h * g(t[n] + h, y[n] + k3, z[n] + l3)\n",
    "    \n",
    "        y[n+1] = y[n] + ((k1+ 2*k2 + 2*k3 + k4)/6)\n",
    "        z[n+1] = z[n] + ((l1+ 2*l2 + 2*l3 + l4)/6)\n",
    "\n",
    "    return y"
   ]
  },
  {
   "cell_type": "markdown",
   "id": "b1795835",
   "metadata": {},
   "source": [
    "# **5. Relatywna wielkość Wszechświata jako funkcja czasu kosmicznego**"
   ]
  },
  {
   "cell_type": "markdown",
   "id": "91ed0a29",
   "metadata": {},
   "source": [
    "Na podstawie artykułu [14] zdecydowaliśmy się objąć razem pierwszą, jak i drugą pochodną współczynnika skali. Łączymy więc dwa równania Friedmanna, żeby uzyskać równanie różniczkowe drugiego rzędu. Wprowadzamy znormalizowany współczynnik skali $y(t)=\\frac{a(t)}{a_0}$. Modyfikacji dokonujemy z założeniem, że Wszechświat jest zdominowany przez materię, więc $\\omega = 0$. Pierwsze równanie zapisujemy więc jako: \\\n",
    "$$y=\\Omega_m\\bigg(\\frac{\\dot{y}^{2}}{H_{0}^{2}}-\\frac{\\Omega_r}{y^{2}}-y^{2}\\Omega^{0}_{\\Lambda}-\\Omega^{0}_{k}\\bigg)^{-1}.$$\n",
    "Z kolei II równanie F:\n",
    "$$\\frac{\\ddot{y}}{y} = \\frac{-4G\\pi}{3}\\rho$$\n",
    "\n",
    "Przemnażamy przez $\\frac{H_0^2}{H_0^2}$:\n",
    "\n",
    "$$\\ddot{y} = \\frac{-yH_0^2}{2}\\bigg(\\frac{\\Omega_m}{y^3} + \\frac{\\Omega_r}{y^4}\\bigg)$$\n",
    "\n",
    "\n",
    "$$\\ddot{y}=-y\\frac{H_0^2}{2}\\bigg(\\frac{\\Omega_m}{y^3}+\\frac{\\Omega_r}{y^4}-2\\Omega_{\\Lambda}\\bigg).$$\n",
    "Zastępując y tym pierwszym:\n",
    "\n",
    "\\begin{equation}\n",
    "\\ddot{y} = -\\frac{H_0^2}{2}\\bigg(\\frac{\\Omega_m}{y^3}+\\frac{\\Omega_r}{y^4}-2\\Omega_{\\Lambda}\\bigg)\\Omega_m\\bigg(\\frac{\\dot{y}^2}{H_0^2}-\\frac{\\Omega_r}{y^2}-y^2\\Omega_{\\Lambda}-\\Omega_k\\bigg)^{-1}.\n",
    "\\label{eq:rownanie11} \n",
    "\\tag{11}\n",
    "\\end{equation}"
   ]
  },
  {
   "cell_type": "code",
   "execution_count": 12,
   "id": "3dd69ba8",
   "metadata": {},
   "outputs": [
    {
     "data": {
      "image/png": "[encoded data removed]",
      "text/plain": [
       "<Figure size 864x576 with 1 Axes>"
      ]
     },
     "metadata": {
      "needs_background": "light"
     },
     "output_type": "display_data"
    }
   ],
   "source": [
    "import numpy as np\n",
    "import matplotlib.pyplot as plt\n",
    "\n",
    "a = [0, 0]\n",
    "b = [-15, 30]\n",
    "h_mod = 96\n",
    "h_ = [15*h_mod, 30*h_mod]\n",
    "h = 1/h_mod\n",
    "sign = [-1, 1]\n",
    "\n",
    "t_ = [np.linspace(a[0],b[0],h_[0]), np.linspace(a[1],b[1],h_[1])]\n",
    "N =  [-int((b[0]-a[0])/h),  int((b[1]-a[1])/h)]\n",
    "y_ = [np.zeros(N[0]), np.zeros(N[1])]\n",
    "z_ = [np.zeros(N[0]), np.zeros(N[1])]\n",
    "H = 67400/(3.09*10**(22))*(3600*24*365*10**(9))\n",
    "# print(H)\n",
    "# print(67400/(3.09*10**(22)))\n",
    "# H = 0.72\n",
    "\n",
    "def getCoords(omega_m,omega_l,omega_r):\n",
    "    t_ = [np.linspace(a[0],b[0],h_[0]), np.linspace(a[1],b[1],h_[1])]\n",
    "    N =  [-int((b[0]-a[0])/h),  int((b[1]-a[1])/h)]\n",
    "    y_ = [np.zeros(N[0]), np.zeros(N[1])]\n",
    "    z_ = [np.zeros(N[0]), np.zeros(N[1])]\n",
    "\n",
    "    k = 1 - omega_m - omega_l - omega_r\n",
    "\n",
    "    y_[0][0] = 1\n",
    "    y_[1][0] = 1\n",
    "    z_[0][0] = H*(omega_m/y_[0][0]+omega_r/(y_[0][0]**2)+k+omega_l*(y_[0][0]**2))**(1/2)\n",
    "    z_[1][0] = H*(omega_m/y_[1][0]+omega_r/(y_[1][0]**2)+k+omega_l*(y_[1][0]**2))**(1/2)\n",
    "\n",
    "    def f(t, y, z):\n",
    "        return z\n",
    "\n",
    "    def g(t, y, z):\n",
    "        return (-((H**(2))/2)*(omega_m/(y**(3))+ omega_r/(y**(4)) - 2*omega_l)*omega_m*((z**(2)/(H**2)) - omega_r/(y**(2)) - (y**(2))*(omega_l) - k)**(-1))\n",
    "\n",
    "    def runge_kutta(f, g):\n",
    "        f_y = [[],[]]\n",
    "        for i in range(2):\n",
    "            s = sign[i]\n",
    "            t = t_[i]\n",
    "            y = y_[i]\n",
    "            z = z_[i]\n",
    "\n",
    "            for n in range (0, N[i]-1):\n",
    "                k1 = h * f(t[n], y[n], z[n])\n",
    "                l1 = h * g(t[n], y[n], z[n])\n",
    "\n",
    "                k2 = h * f((t)[n] + s*(h/2), y[n] + s*(k1/2), z[n] + s*(l1/2))\n",
    "                l2 = h * g((t)[n] + s*(h/2), y[n] + s*(k1/2), z[n] + s*(l1/2))\n",
    "\n",
    "                k3 = h * f(t[n] + s*(h/2), y[n] + s*(k2/2), z[n] + s*(l2/2))\n",
    "                l3 = h * g(t[n] + s*(h/2), y[n] + s*(k2/2), z[n] + s*(l2/2))\n",
    "\n",
    "                k4 = h * f(t[n] + s*h, y[n] + s*k3, z[n] + s*l3)\n",
    "                l4 = h * g(t[n] + s*h, y[n] + s*k3, z[n] + s*l3)\n",
    "            \n",
    "                y[n+1] = y[n] + s*((k1 + 2*k2 + 2*k3 + k4)/6)\n",
    "                z[n+1] = z[n] + s*((l1 + 2*l2 + 2*l3 + l4)/6)\n",
    "\n",
    "            f_y[i].extend(y)\n",
    "\n",
    "        return f_y[0], f_y[1]\n",
    "    return runge_kutta(f, g)\n",
    "\n",
    "omega_m = [0.3,     0.3,    5,      1]\n",
    "omega_l = [0.7,       0,    0,      0]\n",
    "omega_r = [0.0001,  0.0001, 0.001, 0.0001]\n",
    "\n",
    "\n",
    "func_1 = getCoords(omega_m[0],omega_l[0],omega_r[0])\n",
    "func_1a = func_1[0]\n",
    "func_1b = func_1[1]\n",
    "\n",
    "func_2 = getCoords(omega_m[1],omega_l[1],omega_r[1])\n",
    "func_2a = func_2[0]\n",
    "func_2b = func_2[1]\n",
    "\n",
    "func_3 = getCoords(omega_m[2],omega_l[2],omega_r[2])\n",
    "func_3a = func_3[0]\n",
    "func_3b = func_3[1]\n",
    "\n",
    "func_4 = getCoords(omega_m[3],omega_l[3],omega_r[3])\n",
    "func_4a = func_4[0]\n",
    "func_4b = func_4[1]\n",
    "\n",
    "fig = plt.figure(figsize=(12,8))\n",
    "plt.plot(t_[0], func_1a, color=\"red\", label=\"m=0.3, l=0.7, r=0.0001, k=0\")\n",
    "plt.plot(t_[1], func_1b, color=\"red\")\n",
    "plt.plot(t_[0], func_2a, color=\"green\", label=\"m=0.3, l=0, r=0.001, k=0\")\n",
    "plt.plot(t_[1], func_2b, color=\"green\")\n",
    "plt.plot(t_[0], func_3a, color=\"blue\", label=\"m=5, l=0, r=0.001, k<0\")\n",
    "plt.plot(t_[1], func_3b, color=\"blue\")\n",
    "plt.plot(t_[0], func_4a, color=\"black\", label=\"m=1, l=0, r=0.0001, k=0\")\n",
    "plt.plot(t_[1], func_4b, color=\"black\")\n",
    "plt.ylim(top=4, bottom=0)\n",
    "plt.xlim(right=30, left=-15)\n",
    "plt.xlabel(\"Czas kosmiczny w Gyr (Gyr = 1 miliard lat)\")\n",
    "plt.ylabel(\"Relatywna wielkość wszechświata\")\n",
    "plt.title(\"Relatywna wielkość wszechświata jako funkcja czasu kosmicznego\")\n",
    "plt.grid()\n",
    "plt.legend()\n",
    "plt.show()"
   ]
  },
  {
   "cell_type": "markdown",
   "id": "820484be",
   "metadata": {},
   "source": [
    "**Co przedstawia wykres?**"
   ]
  },
  {
   "cell_type": "markdown",
   "id": "353d33b0",
   "metadata": {},
   "source": [
    "* Czerwony wykres jest najlepszym odwzorowaniem dla ostatnich obserwacji. Przestrzenna geometria Wszechświata została zmierzona przez sondę WMAP jako prawie płaska. Oznacza to, że Wszechświat można dobrze przybliżyć za pomocą modelu, w którym parametr krzywizny przestrzennej k wynosi zero. Ekspansja przyspiesza w nieskończoność. Za pomocą tej krzywej szacujemy wiek Wszechświata, zaczynając od $y=0$, a kończąc na $y=1$. Będzie to dla nas przydatne w obliczaniu wieku Wszechświata.\n",
    "\n",
    "* Zielona krzywa również przedstawia nieskończoną ekspansję dla płaskiego Wszechświata.\n",
    "\n",
    "* Niebieska krzywa jest interpretacją zamkniętego, sferycznego Wszechświata, czyli $k = 0$. Po początkowej fazie ekspansji Wszechświat kurczy się. Nazywa się to scenariuszem „Wielkiego Kryzysu”. Jest to odzwierciedlenie teorii Wielkiego Odbicia, spekuluje się, że po zapadnięciu znowu nastąpi Wielki Wybuch i ekspansja.\n",
    "\n",
    "* Czarna przedstawia gęstość równą gęstości krytycznej; jest to model Einsteina - de Sittera. Ekspansja jest nieskończona."
   ]
  },
  {
   "cell_type": "markdown",
   "id": "68a20af8",
   "metadata": {},
   "source": [
    "# **6. Wiek Wszechświata**"
   ]
  },
  {
   "cell_type": "markdown",
   "id": "eea30d5d",
   "metadata": {},
   "source": [
    "Obliczamy wiek Wszechświata dla wybranych parametrów, dane wziękliśmy z misji Plancka z 2015 roku. Obliczamy to wzorem $\\eqref{eq:rownanie10}$:\n"
   ]
  },
  {
   "cell_type": "code",
   "execution_count": 13,
   "id": "08054d54",
   "metadata": {},
   "outputs": [
    {
     "name": "stdout",
     "output_type": "stream",
     "text": [
      "13.80824372628105 Gyr\n"
     ]
    }
   ],
   "source": [
    "import scipy.integrate as integrate\n",
    "import scipy.special as special\n",
    "from math import sqrt\n",
    "\n",
    "omega_m = 0.3086\n",
    "omega_l = 0.6914\n",
    "omega_r = 1 - omega_l - omega_m \n",
    "omega_k = 0\n",
    "H_0 = 67740/(3.086*10**(22))\n",
    "a_0 = 1\n",
    "\n",
    "def f(a):\n",
    "    return 1/(a*H_0*sqrt(omega_r*((a_0/a)**4) + omega_m*((a_0/a)**3) + omega_k*((a_0/a)**2) + omega_l))\n",
    "\n",
    "res, err = integrate.quad(f,0,1)\n",
    "res_g = res/((5*3600 + 48*60 + 3600*24*365)*10**(9))\n",
    "print(f\"{res_g} Gyr\")"
   ]
  },
  {
   "cell_type": "markdown",
   "id": "e8020cc1",
   "metadata": {},
   "source": [
    "Dla parametrów $ \\Omega_m = 0.3086, \\Omega_l = 0.6914, H_0 = \\frac{67740}{(3.086*10^{22})} $ Otrzymujemy $13.8082 Gyr$, gdzie $ 1 Gyr = 10^{9} lat $."
   ]
  },
  {
   "cell_type": "markdown",
   "id": "4977d0bd",
   "metadata": {},
   "source": [
    "# **7. Wnioski**"
   ]
  },
  {
   "cell_type": "markdown",
   "id": "9432cdfc",
   "metadata": {},
   "source": [
    "Dokonaliśmy krótkiego przeglądu równań Friedmanna modelu standardowego kosmologii. Trzeba pamiętać, że możemy dojść tylko częściowo do ostatecznego równania Friedmanna używając grawitacji Newtona, ale nadal jest to całkiem niezłe wyprowadzenie. Omówiliśmy również sposób rozwiązania tych równań po ich uzupełnieniu. Jako kilka ilustrujących przykładów, przedstawiliśmy ewolucję Wszechświata w czasie dla różnych parametrów gęstości i $k$. Udało nam się również obliczyć obecny wiek Wszechświata. Jednak ze względu na wyprowadzenie równań przy użyciu grawitacji Newtona, nie posiadaliśmy w naszych zmiennych stałej kosmologicznej. Zważając na obserwacje z ostatnich lat, które dowodzą istnienia ciemnej materii, stała kosmologiczna jest konieczna do tego. Z tego powodu zdecydowaliśmy się ją dodać do równań wyliczających wiek Wszechświata, gdyż bez niej wynik byłby znacząco niepoprawny.\n",
    "\n",
    "Mamy nadzieję, że nikogo nie wprowadziliśmy w stan egzystencjalnych rozważań nad sensem istnienia:)"
   ]
  },
  {
   "cell_type": "markdown",
   "id": "cb193f12",
   "metadata": {},
   "source": [
    "# **8. Bibliografia**"
   ]
  },
  {
   "cell_type": "markdown",
   "id": "1f6b4cbc",
   "metadata": {},
   "source": [
    "[1] Andrew Liddle - \"An Introduction to Modern Cosmology\"\n",
    "[2] James B. Hartle - \"Grawitacja\"\\\n",
    "[3] https://en.wikipedia.org/wiki/Runge%E2%80%93Kutta_methods \\\n",
    "[4] https://en.wikipedia.org/wiki/Euler_method \\\n",
    "[5] https://johnsbutler.netlify.app/files/Teaching/Numerical_Analysis_for_Differential_Equations.pdf \\\n",
    "[6] https://atozmath.com/example/CONM/RungeKutta.aspx?q=euler&m=2&q1=E2 \\\n",
    "[7] https://atozmath.com/example/CONM/RungeKutta.aspx?q=rk4&m=2&q1=E1 \\\n",
    "[8] https://www.newscientist.com/article/mg16121747-700-a-theory-of-everything \\\n",
    "[9] https://www.cloudynights.com/articles/cat/articles/basic-extragalactic-astronomy-part-2-distance-[10] luminosity-and-the-hubble-parameter-r3214 \\\n",
    "[11] https://www.cloudynights.com/articles/cat/articles/basic-extragalactic-astronomy-part-2-distance-[12] luminosity-and-the-hubble-parameter-r3214 \\\n",
    "[13] http://carina.fcaglp.unlp.edu.ar/extragalactica/Bibliografia/Ryden_IntroCosmo.pdf \\\n",
    "[14] https://dournac.org/info/friedmann?fbclid=IwAR3YildqDLYF8QNEplEaIrBnfrRvf9d_jsDoVMOe74QUyjGLnllicK9r-cE#hubble-constant \\\n",
    "[15]  Planck Collaboration (2016). \"Planck 2015 results. XIII. Cosmological parameters\""
   ]
  }
 ],
 "metadata": {
  "kernelspec": {
   "display_name": "Python 3",
   "language": "python",
   "name": "python3"
  },
  "language_info": {
   "codemirror_mode": {
    "name": "ipython",
    "version": 3
   },
   "file_extension": ".py",
   "mimetype": "text/x-python",
   "name": "python",
   "nbconvert_exporter": "python",
   "pygments_lexer": "ipython3",
   "version": "3.8.8"
  },
  "vscode": {
   "interpreter": {
    "hash": "5238573367df39f7286bb46f9ff5f08f63a01a80960060ce41e3c79b190280fa"
   }
  }
 },
 "nbformat": 4,
 "nbformat_minor": 5
}
